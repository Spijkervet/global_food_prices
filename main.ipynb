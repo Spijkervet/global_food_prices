{
 "cells": [
  {
   "cell_type": "markdown",
   "metadata": {},
   "source": [
    "# Global Food Prices\n",
    "\n",
    "Get dataset"
   ]
  },
  {
   "cell_type": "code",
   "execution_count": 102,
   "metadata": {},
   "outputs": [],
   "source": [
    "import os\n",
    "from download import download\n",
    "import pandas as pd\n",
    "from matplotlib import pyplot as plt\n",
    "\n",
    "%matplotlib inline\n",
    "\n",
    "url_2 = \"https://raw.githubusercontent.com/lukes/ISO-3166-Countries-with-Regional-Codes/master/all/all.csv\"\n",
    "regional_file_name = \"regions.csv\"\n",
    "\n",
    "url = \"http://vam.wfp.org/sites/data/WFPVAM_FoodPrices_05-12-2017.csv\"\n",
    "file_name = 'WFPVAM_FoodPrices_05-12-2017.csv'\n",
    "\n",
    "def get_dataset(url, file_name):\n",
    "    if not os.path.isfile(file_name):\n",
    "        download(url, file_name)\n",
    "    \n",
    "    return pd.read_csv(file_name, encoding='latin-1')\n",
    "\n",
    "df = get_dataset(url, file_name)\n",
    "\n",
    "region_df = get_dataset(url_2, regional_file_name)"
   ]
  },
  {
   "cell_type": "code",
   "execution_count": 103,
   "metadata": {},
   "outputs": [],
   "source": [
    "# Pre-process\n",
    "region_df.rename(columns={'name': 'adm0_name'}, inplace=True)\n",
    "new_regions = region_df.loc[:, ['adm0_name', 'sub-region']]\n",
    "\n",
    "df_regions = pd.merge(df, new_regions, on='adm0_name', how='left')\n",
    "\n",
    "df = df_regions.copy()\n",
    "\n",
    "df['datetime'] = pd.to_datetime(df.mp_year*10000+df.mp_month*100+1, format='%Y%m%d')\n"
   ]
  },
  {
   "cell_type": "code",
   "execution_count": 104,
   "metadata": {},
   "outputs": [],
   "source": [
    "import numpy as np\n",
    "avg_price = df.groupby(['adm0_name', 'cm_name', 'datetime'])['mp_price']\n",
    "df_means = avg_price.mean().reset_index()\n",
    "\n",
    "\n",
    "normalized = df_means.groupby(['adm0_name', 'cm_name'])['mp_price'].apply(lambda x: (x - np.mean(x)) / (np.max(x) - np.min(x)))"
   ]
  },
  {
   "cell_type": "code",
   "execution_count": 120,
   "metadata": {},
   "outputs": [],
   "source": [
    "df_means['mp_price_norm'] = normalized\n",
    "\n",
    "# only_apples = df_means.loc[df_means['sub-region'] == 'Central Asia'].loc[df_means['cm_name'] == 'Apples']\n",
    "# print(\"MAX\", only_apples['mp_price'].max(), \"MIN\", only_apples['mp_price'].min(), \"MEAN\", only_apples['mp_price'].mean())"
   ]
  },
  {
   "cell_type": "code",
   "execution_count": 106,
   "metadata": {},
   "outputs": [],
   "source": [
    "# plt.plot(df_means['datetime'], df_means['mp_price'], '-')\n",
    "\n",
    "# Make a graph per product. Each line represents a country (or region for later).\n",
    "\n",
    "\n",
    "from bokeh.io import output_file, show, save\n",
    "# output_notebook()\n",
    "\n",
    "from bokeh.models import ColumnDataSource, HoverTool\n",
    "from bokeh.plotting import figure"
   ]
  },
  {
   "cell_type": "code",
   "execution_count": null,
   "metadata": {},
   "outputs": [],
   "source": []
  },
  {
   "cell_type": "code",
   "execution_count": 119,
   "metadata": {},
   "outputs": [],
   "source": [
    "from bokeh.palettes import Dark2_5 as palette\n",
    "import itertools\n",
    "from bokeh.layouts import column\n",
    "\n",
    "b = df_means.groupby(['cm_name'])\n",
    "\n",
    "figures = []\n",
    "\n",
    "idx = 0\n",
    "for group, row in b:\n",
    "    color_idx = 0\n",
    "    country_group = row.groupby(['adm0_name'])\n",
    "    p = figure(plot_width=800, plot_height=300, x_axis_type='datetime')\n",
    "    p.title.text = group\n",
    "    p.legend.click_policy=\"hide\"\n",
    "    p.legend.location = \"top_left\"\n",
    "    \n",
    "    for group2, row2 in country_group:\n",
    "        datetime = []\n",
    "        prices = []\n",
    "        for i, data in row2.iterrows():\n",
    "            datetime.append(data['datetime'])\n",
    "            prices.append(data['mp_price_norm'])\n",
    "        p.line(datetime, prices, line_width=4, legend=data['adm0_name'], color=palette[color_idx % 5])\n",
    "        color_idx += 1\n",
    "    figures.append(p)\n",
    "    idx += 1\n",
    "    if idx > 20:\n",
    "        break\n",
    "\n",
    "output_file(\"groups\" + \".html\")\n",
    "show(column(figures))\n"
   ]
  },
  {
   "cell_type": "code",
   "execution_count": null,
   "metadata": {},
   "outputs": [],
   "source": []
  },
  {
   "cell_type": "code",
   "execution_count": null,
   "metadata": {},
   "outputs": [],
   "source": []
  }
 ],
 "metadata": {
  "kernelspec": {
   "display_name": "Python 3",
   "language": "python",
   "name": "python3"
  },
  "language_info": {
   "codemirror_mode": {
    "name": "ipython",
    "version": 3
   },
   "file_extension": ".py",
   "mimetype": "text/x-python",
   "name": "python",
   "nbconvert_exporter": "python",
   "pygments_lexer": "ipython3",
   "version": "3.6.5"
  }
 },
 "nbformat": 4,
 "nbformat_minor": 2
}
