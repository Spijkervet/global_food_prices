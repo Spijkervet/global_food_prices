{
 "cells": [
  {
   "cell_type": "markdown",
   "metadata": {},
   "source": [
    "# Global Food Prices\n",
    "\n",
    "Get dataset"
   ]
  },
  {
   "cell_type": "code",
   "execution_count": 6,
   "metadata": {},
   "outputs": [],
   "source": [
    "import os\n",
    "from download import download\n",
    "import pandas as pd\n",
    "\n",
    "\n",
    "url = \"http://vam.wfp.org/sites/data/WFPVAM_FoodPrices_05-12-2017.csv\"\n",
    "file_name = 'WFPVAM_FoodPrices_05-12-2017.csv'\n",
    "\n",
    "def get_dataset(url, file_name):\n",
    "    if not os.path.isfile(file_name):\n",
    "        download(url, file_name)\n",
    "    \n",
    "    return pd.read_csv(file_name, encoding='latin-1')\n",
    "\n",
    "df = get_dataset(url, file_name)"
   ]
  },
  {
   "cell_type": "code",
   "execution_count": 7,
   "metadata": {},
   "outputs": [],
   "source": [
    "# Pre-process"
   ]
  }
 ],
 "metadata": {
  "kernelspec": {
   "display_name": "Python 3",
   "language": "python",
   "name": "python3"
  },
  "language_info": {
   "codemirror_mode": {
    "name": "ipython",
    "version": 3
   },
   "file_extension": ".py",
   "mimetype": "text/x-python",
   "name": "python",
   "nbconvert_exporter": "python",
   "pygments_lexer": "ipython3",
   "version": "3.6.5"
  }
 },
 "nbformat": 4,
 "nbformat_minor": 2
}
