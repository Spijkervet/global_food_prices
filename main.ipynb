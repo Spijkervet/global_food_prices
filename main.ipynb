{
 "cells": [
  {
   "cell_type": "code",
   "execution_count": null,
   "metadata": {},
   "outputs": [
    {
     "name": "stderr",
     "output_type": "stream",
     "text": [
      "  0%|          | 17.0/89.9k [00:00<10:36, 141KB/s]"
     ]
    },
    {
     "name": "stdout",
     "output_type": "stream",
     "text": [
      "Downloading dataset\n"
     ]
    },
    {
     "name": "stderr",
     "output_type": "stream",
     "text": [
      " 45%|████▍     | 40.3k/89.9k [00:17<00:21, 2.29kKB/s]"
     ]
    }
   ],
   "source": [
    "import os\n",
    "from download import download\n",
    "\n",
    "url = \"http://vam.wfp.org/sites/data/WFPVAM_FoodPrices_05-12-2017.csv\"\n",
    "file_name = 'WFPVAM_FoodPrices_05-12-2017.csv'\n",
    "\n",
    "def get_dataset(url, file_name):\n",
    "    if not os.path.fexists(file_name):\n",
    "        download(url, file_name)\n",
    "    \n",
    "\n",
    "    \n",
    "get_dataset(url, file_name)\n",
    "    "
   ]
  }
 ],
 "metadata": {
  "kernelspec": {
   "display_name": "Python 3",
   "language": "python",
   "name": "python3"
  },
  "language_info": {
   "codemirror_mode": {
    "name": "ipython",
    "version": 3
   },
   "file_extension": ".py",
   "mimetype": "text/x-python",
   "name": "python",
   "nbconvert_exporter": "python",
   "pygments_lexer": "ipython3",
   "version": "3.6.5"
  }
 },
 "nbformat": 4,
 "nbformat_minor": 2
}
