{
 "cells": [
  {
   "cell_type": "code",
   "execution_count": null,
   "metadata": {},
   "outputs": [],
   "source": []
  },
  {
   "cell_type": "code",
   "execution_count": 1,
   "metadata": {},
   "outputs": [],
   "source": [
    "import pandas as pd\n",
    "import os\n",
    "import numpy as np\n",
    "from bokeh.layouts import gridplot\n",
    "\n",
    "url_2 = \"https://raw.githubusercontent.com/lukes/ISO-3166-Countries-with-Regional-Codes/master/all/all.csv\"\n",
    "regional_file_name = \"regions.csv\"\n",
    "\n",
    "file_name = 'WFPVAM_FoodPrices_version4_Retail.csv'\n",
    "\n",
    "# Add region and datetime cols.\n",
    "df = pd.read_csv(file_name)\n",
    "df['date'] = pd.to_datetime(df.date, format='%Y-%m')\n",
    "\n",
    "country = 'Uganda'"
   ]
  },
  {
   "cell_type": "code",
   "execution_count": 2,
   "metadata": {},
   "outputs": [],
   "source": [
    "# only_bread.plot(x='date', y='Diff')\n",
    "\n",
    "def datetime(x):\n",
    "    return np.array(x, dtype=np.datetime64)\n",
    "\n",
    "\n",
    "from bokeh.layouts import gridplot\n",
    "from bokeh.plotting import figure, show, output_file\n",
    "from bokeh.models import HoverTool\n",
    "\n",
    "\n",
    "# COLORS\n",
    "from bokeh.palettes import Dark2_5 as palette\n",
    "import itertools\n",
    "\n",
    "\n",
    "colors = itertools.cycle(palette)"
   ]
  },
  {
   "cell_type": "raw",
   "metadata": {},
   "source": [
    "\n",
    "# Products per Country for each city.\n",
    "plots = []\n",
    "product_groups = df.groupby(['cm_name'])\n",
    "for prod_group, prod_row in product_groups:    \n",
    "    plot = figure(x_axis_type=\"datetime\", title=\"{} in {}\".format(prod_group, country), tools='hover')\n",
    "    \n",
    "    city_groups = prod_row.groupby(['mkt_name'])\n",
    "    for (group, row), color in zip(city_groups, colors):\n",
    "        plot.line(datetime(row['date']), row['Diff'], color=color, legend=group)\n",
    "    plot.legend.click_policy = \"hide\"\n",
    "    plot.legend.location = \"top_right\"\n",
    "    hover = plot.select(dict(type=HoverTool))\n",
    "    hover.tooltips = [\n",
    "        (\"Value\", \"$y\"),\n",
    "        ]\n",
    "    \n",
    "    plots.append(plot)\n",
    "\n",
    "# p2 = figure(x_axis_type=\"datetime\", title=\"Bread in Afghanistan\")\n",
    "# p2.line(datetime(df['date']), df['mp_price'], color='#A6CEE3', legend='Bread')\n",
    "\n",
    "# show(gridplot([plots]))"
   ]
  },
  {
   "cell_type": "markdown",
   "metadata": {},
   "source": [
    "# Question 1\n",
    "\n",
    "Are there any food prices that are show negative/positive correlation, and is this correlation present throughout the years, or perhaps only in certain period? Can you perhaps detect possible ingredients of a certain other food product?"
   ]
  },
  {
   "cell_type": "code",
   "execution_count": 12,
   "metadata": {},
   "outputs": [],
   "source": [
    "# Each product in a graph for each country.\n",
    "\n",
    "df_country = df.loc[df.adm0_name == country]\n",
    "plots = []\n",
    "country_groups = df_country.groupby(['mkt_name'])\n",
    "\n",
    "# allow for interactive hover tool\n",
    "# Import the ColumnDataSource\n",
    "from bokeh.models import ColumnDataSource\n",
    "\n",
    "\n",
    "\n",
    "for country_group, country_row in country_groups:\n",
    "    plot = figure(x_axis_type=\"datetime\", title=\"Products in {}\".format(country_group), tools='hover,pan,wheel_zoom,box_zoom,reset')\n",
    "    product_groups = country_row.groupby(['cm_name'])\n",
    "    for (group, row), color in zip(product_groups, colors):\n",
    "        # create CDS to enable dynamic hovering\n",
    "        row_cds = ColumnDataSource(row)\n",
    "        # set source to CDS\n",
    "        plot.line('date', 'Diff', color=color, legend=group, source=row_cds)\n",
    "    plot.legend.click_policy = \"hide\"\n",
    "    plot.legend.location = \"top_right\"\n",
    "    hover = plot.select(dict(type=HoverTool))\n",
    "    # set preffered info for hovertool to show\n",
    "    hover.tooltips = [\n",
    "        # need to fix daytime again now....\n",
    "        (\"date\", \"@date\"),\n",
    "        (\"product\", \"@cm_name\"),\n",
    "        (\"country\", \"@adm0_name\")\n",
    "        ]\n",
    "    \n",
    "    plots.append(plot)\n",
    "\n",
    "show(gridplot([plots]))"
   ]
  },
  {
   "cell_type": "markdown",
   "metadata": {},
   "source": [
    "# Question 2\n",
    "Do countries in similar regions, also show similar price differences? And if differences occur, can you find a potential explanation?"
   ]
  },
  {
   "cell_type": "code",
   "execution_count": 4,
   "metadata": {},
   "outputs": [],
   "source": [
    "# Each product in a graph for each country.\n",
    "\n",
    "\n",
    "region_df = pd.read_csv(regional_file_name)\n",
    "region_df.rename(columns={'name': 'adm0_name'}, inplace=True)\n",
    "new_regions = region_df.loc[:, ['adm0_name', 'sub-region']]\n",
    "\n",
    "df_regions = pd.merge(df, new_regions, on='adm0_name', how='left')\n",
    "df = df_regions.copy()"
   ]
  },
  {
   "cell_type": "code",
   "execution_count": 5,
   "metadata": {},
   "outputs": [],
   "source": [
    "y_axis = 'Diff'\n",
    "\n",
    "\n",
    "plots = []\n",
    "product_groups = df.groupby(['sub-region', 'cm_name', 'date'])[y_axis].mean().reset_index()\n",
    "group = product_groups.groupby('sub-region')\n",
    "\n",
    "for gr1, row1 in group:\n",
    "    plot = figure(x_axis_type=\"datetime\", title=\"Avg Products in {}\".format(gr1), tools='hover,pan,wheel_zoom,box_zoom,reset')\n",
    "    product_groups = row1.groupby(['cm_name'])\n",
    "    for (gr2, row2), color in zip(product_groups, colors):\n",
    "        plot.line(row2['date'], row2[y_axis], color=color, legend=gr2)\n",
    "    plot.legend.click_policy = \"hide\"\n",
    "    plot.legend.location = \"top_right\"\n",
    "    hover = plot.select(dict(type=HoverTool))\n",
    "    hover.tooltips = [\n",
    "        (\"Product\", \"@cm_name\"),\n",
    "        (\"Value\", \"$y\"),\n",
    "        ]\n",
    "    \n",
    "    plots.append(plot)\n",
    "show(gridplot([plots]))"
   ]
  },
  {
   "cell_type": "markdown",
   "metadata": {},
   "source": [
    "# Question 3\n",
    "Can we see any correlations between other types of data, like: currency fluctuations, weather patterns, and/or refugee movements. Can we perhaps visualize refugee movements from the food price data? Do certain weather conditions influence market prices?"
   ]
  },
  {
   "cell_type": "code",
   "execution_count": null,
   "metadata": {},
   "outputs": [],
   "source": []
  }
 ],
 "metadata": {
  "kernelspec": {
   "display_name": "Python 3",
   "language": "python",
   "name": "python3"
  },
  "language_info": {
   "codemirror_mode": {
    "name": "ipython",
    "version": 3
   },
   "file_extension": ".py",
   "mimetype": "text/x-python",
   "name": "python",
   "nbconvert_exporter": "python",
   "pygments_lexer": "ipython3",
   "version": "3.6.4"
  }
 },
 "nbformat": 4,
 "nbformat_minor": 2
}
