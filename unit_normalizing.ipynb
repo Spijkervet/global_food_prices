{
 "cells": [
  {
   "cell_type": "code",
   "execution_count": 5,
   "metadata": {},
   "outputs": [],
   "source": [
    "import os\n",
    "from download import download\n",
    "import pandas as pd\n",
    "from matplotlib import pyplot as plt\n",
    "\n",
    "%matplotlib inline\n",
    "\n",
    "url = \"http://vam.wfp.org/sites/data/WFPVAM_FoodPrices_05-12-2017.csv\"\n",
    "file_name = 'WFPVAM_FoodPrices_05-12-2017.csv'\n",
    "\n",
    "def get_dataset(url, file_name):\n",
    "    if not os.path.isfile(file_name):\n",
    "        download(url, file_name)\n",
    "    \n",
    "    return pd.read_csv(file_name, encoding='latin-1')\n",
    "\n",
    "df = get_dataset(url, file_name)"
   ]
  },
  {
   "cell_type": "code",
   "execution_count": 42,
   "metadata": {},
   "outputs": [
    {
     "name": "stdout",
     "output_type": "stream",
     "text": [
      "{'Apples (red)': ['500 G', 'KG'], 'Bananas': ['500 G', 'KG', 'Pound'], 'Beans': ['100 KG', 'KG'], 'Beans (black)': ['45 KG', 'MT', 'Marmite', 'Pound'], 'Beans (dry)': ['500 G', '90 KG', 'KG'], 'Beans (niebe)': ['90 KG', 'KG'], 'Beans (red)': ['45 KG', 'KG', 'MT', 'Marmite'], 'Bread': ['150 G', '400 G', '500 G', 'KG', 'Pound', 'Unit'], 'Bread (wheat)': ['Loaf', 'Unit'], 'Cabbage': ['500 G', 'KG'], 'Carrots': ['500 G', 'KG'], 'Cashew': ['500 G', 'KG'], 'Cassava': ['3.5 KG', '500 G', '91 KG', 'KG'], 'Cassava (cossette)': ['90 KG', 'KG'], 'Cassava (dry)': ['3.5 KG', 'KG'], 'Cassava (fresh)': ['50 KG', 'KG'], 'Cheese (dry)': ['KG', 'Pound', 'Unit'], 'Cheese (picon)': ['160 G', '168 G', 'KG'], 'Cocoa': ['KG', 'Libra'], 'Coffee': ['KG', 'Libra', 'Pound'], 'Coffee (instant)': ['500 G', '85 G', 'Unit'], 'Cowpeas (brown)': ['100 KG', 'KG'], 'Eggs': ['1.8 KG', '10 pcs', '2 KG', '30 pcs', '650 G', 'Dozen', 'KG', 'Unit'], 'Fish (dry)': ['500 G', 'KG'], 'Fish (sardine, canned)': ['125 G', 'KG'], 'Fish (tuna, canned)': ['185 G', 'KG'], 'Fonio': ['500 G', 'KG'], 'Fuel (diesel)': ['500 ML', 'Gallon', 'KG', 'L'], 'Fuel (gas)': ['10 KG', '12 KG', '18 KG'], 'Fuel (kerosene)': ['1.5 L', '500 ML', 'L'], 'Fuel (petrol-gasoline)': ['500 ML', 'Gallon', 'L'], 'Gari (white)': ['100 KG', 'KG'], 'Gari (yellow)': ['100 KG', 'KG'], 'Garlic': ['500 G', 'KG'], 'Groundnuts (shelled)': ['100 KG', '500 G', '90 KG', 'KG'], 'Groundnuts (unshelled)': ['500 G', 'KG'], 'Livestock (Goat)': ['Head', 'Unit'], 'Livestock (Sheep)': ['Head', 'Unit'], 'Livestock (sheep, two-year-old male)': ['Head', 'Unit'], 'Maize': ['100 KG', '500 G', '90 KG', 'KG'], 'Maize (local)': ['500 G', 'KG'], 'Maize (white)': ['100 KG', '3.5 KG', '45 KG', '50 KG', '90 KG', 'KG', 'MT'], 'Maize (yellow)': ['100 KG', '45 KG', '50 KG', 'KG', 'MT'], 'Maize flour': ['500 G', 'KG'], 'Maize flour (imported)': ['750 G', 'KG'], 'Maize meal': ['12.5 KG', 'KG'], 'Meat (beef)': ['500 G', 'KG'], 'Meat (beef, chops with bones)': ['KG', 'Pound'], 'Meat (chicken)': ['500 G', 'KG', 'Pound'], 'Meat (mutton)': ['500 G', 'KG'], 'Milk': ['500 G', 'L'], 'Milk (pasteurized)': ['380 G', '500 ML', 'KG', 'L'], 'Milk (powder)': ['1.8 KG', 'KG', 'Pound', 'Unit'], 'Millet': ['100 KG', '3.5 KG', '500 G', 'KG'], 'Noodles (short)': ['Cuartilla', 'KG', 'Pound'], 'Oil (groundnut)': ['500 ML', 'KG', 'L'], 'Oil (maize)': ['3 L', 'L'], 'Oil (olive)': ['KG', 'L'], 'Oil (palm)': ['100 KG', '500 ML', 'Gallon', 'KG', 'L'], 'Oil (soybean)': ['KG', 'L'], 'Oil (sunflower)': ['5 L', '750 ML', 'KG', 'L'], 'Oil (vegetable)': ['1.8 L', '500 ML', '750 ML', 'KG', 'L'], 'Oil (vegetable, imported)': ['Gallon', 'KG', 'L'], 'Onions': ['500 G', '90 KG', 'KG', 'Pound'], 'Oranges (big size)': ['500 G', 'KG'], 'Pasta': ['300 G', '350 G', '500 G', 'KG', 'Pound'], 'Peas (green, dry)': ['500 G', 'KG'], 'Peas (yellow)': ['90 KG', 'KG'], 'Plantains': ['KG', 'Pound'], 'Potatoes': ['KG', 'Pound'], 'Potatoes (Dutch)': ['11.5 KG', 'Cuartilla', 'Pound'], 'Potatoes (Irish)': ['50 KG', '500 G', 'KG'], 'Potatoes (Irish, imilla)': ['11.5 KG', 'Cuartilla', 'KG', 'Pound'], 'Rice': ['100 KG', '45 KG', 'KG'], 'Rice (basmati, broken)': ['500 G', 'KG'], 'Rice (estaquilla)': ['Cuartilla', 'KG', 'Pound'], 'Rice (good quality)': ['Cuartilla', 'KG'], 'Rice (imported)': ['50 KG', 'KG'], 'Rice (local)': ['100 KG', '50 KG', '90 KG', 'KG', 'Marmite'], 'Rice (ordinary, first quality)': ['45 KG', 'KG'], 'Rice (ordinary, second quality)': ['45 KG', 'KG', 'Pound'], 'Rice (paddy)': ['KG', 'MT'], 'Rice (small grain, imported)': ['25 KG', '500 G'], 'Rice (white)': ['KG', 'MT'], 'Salt': ['115 G', '500 G', 'KG'], 'Sesame': ['3.5 KG', '90 KG', 'KG'], 'Sorghum': ['100 KG', '3 KG', '500 G', '90 KG', 'KG', 'Marmite'], 'Sorghum (red)': ['90 KG', 'KG'], 'Sorghum (white)': ['100 KG', '3.5 KG', '90 KG', 'KG', 'MT'], 'Soybeans': ['90 KG', 'KG'], 'Sugar': ['500 G', 'KG', 'Pound'], 'Sweet potatoes': ['500 G', 'KG'], 'Tea': ['KG', 'Unit'], 'Tea (green)': ['KG', 'Unit'], 'Tomatoes': ['500 G', 'KG', 'Pound'], 'Tomatoes (paste)': ['650 G', 'KG'], 'Wage (non-qualified labour, non-agricultural)': ['Day', 'Month'], 'Wheat': ['100 KG', '3 KG', 'KG'], 'Wheat flour': ['12.5 KG', '5 KG', '50 KG', '60 KG', 'KG'], 'Wheat flour (imported)': ['KG', 'Marmite'], 'Wheat flour (locally processed)': ['50 KG', 'KG'], 'Yam': ['100 KG', '100 Tubers', 'KG'], 'Yam (Abuja)': ['100 KG', 'KG'], 'Yogurt': ['500 G', 'KG']}\n"
     ]
    }
   ],
   "source": [
    "#new = df.groupby(\"adm1_name\")\n",
    "#new.describe()\n",
    "\n",
    "dict = {}\n",
    "for (product, unit), df_group in df.groupby([\"cm_name\", \"um_name\"]):\n",
    "    if not product in dict:\n",
    "        dict[product] = [unit]\n",
    "    else:\n",
    "        dict[product].append(unit)\n",
    "\n",
    "dict2 = {key: value for key, value in dict.items() if len(value) > 1}\n",
    "print(dict2)\n"
   ]
  },
  {
   "cell_type": "code",
   "execution_count": null,
   "metadata": {},
   "outputs": [],
   "source": []
  }
 ],
 "metadata": {
  "kernelspec": {
   "display_name": "Python 3",
   "language": "python",
   "name": "python3"
  },
  "language_info": {
   "codemirror_mode": {
    "name": "ipython",
    "version": 3
   },
   "file_extension": ".py",
   "mimetype": "text/x-python",
   "name": "python",
   "nbconvert_exporter": "python",
   "pygments_lexer": "ipython3",
   "version": "3.6.4"
  }
 },
 "nbformat": 4,
 "nbformat_minor": 2
}
