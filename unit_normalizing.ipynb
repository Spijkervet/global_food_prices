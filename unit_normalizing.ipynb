{
 "cells": [
  {
   "cell_type": "code",
   "execution_count": 74,
   "metadata": {},
   "outputs": [],
   "source": [
    "import pandas as pd\n",
    "import numpy as np\n",
    "\n",
    "from matplotlib import pyplot as plt\n",
    "%matplotlib inline\n",
    "\n",
    "# get database as panda dataframe\n",
    "df = pd.read_csv('WFPVAM_FoodPrices_version1.csv')"
   ]
  },
  {
   "cell_type": "code",
   "execution_count": 75,
   "metadata": {},
   "outputs": [
    {
     "name": "stdout",
     "output_type": "stream",
     "text": [
      "96\n",
      "['KG' 'Day' 'Unit' 'L' 'USD/LCU' '11.5 KG' 'Pound' 'Cuartilla' '90 KG' 'MT'\n",
      " 'Libra' 'Gallon' '380 G' 'Month' '85 G' '500 ML' 'Course' '45 KG' 'Head'\n",
      " '100 KG' '500 G' '50 KG' '91 KG' 'Bunch' '100 Tubers' '650 G' '750 ML'\n",
      " '115 G' 'Marmite' '350 G' '385 G' '1.8 KG' '2 KG' '400 G' '10 pcs' '150 G'\n",
      " '5 KG' '30 pcs' '5 L' '160 G' '200 G' '12.5 KG' 'Loaf' 'Dozen' 'Sack'\n",
      " '1.5 KG' '185 G' '10 KG' 'Packet' '750 G' '1.5 L' '12 KG' '18 KG' '25 KG'\n",
      " '3 L' 'Cubic meter' '3 KG' '3.5 KG' '168 G']\n"
     ]
    }
   ],
   "source": [
    "# for a more intuitive access to the database\n",
    "COUNTRY = 'adm0_name'\n",
    "REGION = 'adm1_name'\n",
    "CITY = 'mkt_name'\n",
    "PROD = 'cm_name'\n",
    "CURR = 'cur_name'\n",
    "SELLER = 'pt_name'\n",
    "UNIT = 'um_name'\n",
    "MONTH = 'mp_month'\n",
    "YEAR = 'mp_year'\n",
    "DATE = 'date'\n",
    "PRICE = 'mp_price'\n",
    "SOURCE = 'mp_commoditysource'\n",
    "\n",
    "# gets all products as keys with according units as values #\n",
    "dict = {}\n",
    "for (product, unit), df_group in df.groupby([\"cm_name\", \"um_name\"]):\n",
    "    if not product in dict:\n",
    "        dict[product] = [unit]\n",
    "    else:\n",
    "        dict[product].append(unit)\n",
    "\n",
    "# comprehends created dict to include only products with inconsistent unit measures #\n",
    "dict2 = {key: value for (key, value) \n",
    "         in dict.items() if len(value) > 1}\n",
    "\n",
    "# number of products with inconsistent (more than one) unit measures\n",
    "print(len(dict2))\n",
    "\n",
    "\n",
    "# returns all unit measures used in database\n",
    "print(df.eval(UNIT).unique())\n",
    "\n"
   ]
  },
  {
   "cell_type": "code",
   "execution_count": 77,
   "metadata": {},
   "outputs": [
    {
     "name": "stdout",
     "output_type": "stream",
     "text": [
      "30\n",
      "['KG' 'Day' 'Unit' 'L' 'USD/LCU' 'Cuartilla' 'Month' 'Course' 'Head'\n",
      " 'Bunch' '100 Tubers' 'Marmite' 'pcs' 'Loaf' 'Sack' 'Packet' 'Cubic meter']\n"
     ]
    }
   ],
   "source": [
    "\n",
    "# assuming:\n",
    "# 1 Libra = 0.329 kg\n",
    "# 1 MT (Metric Ton) = 1000 KG\n",
    "# 1 L Palm Oil = 0.91298 KG\n",
    "UNIT_PRICE_CONVERTER = {'1.5 KG': (1.5, 'KG'), '5 KG': (5.0, 'KG'), '1.8 KG': (1.8, 'KG'), \n",
    "                        '2 KG': (2.0, 'KG'), '12.5 KG': (12.5, 'KG'), '10 KG': (10.0, 'KG'),\n",
    "                        '60 KG': (60.0, 'KG'), '18 KG': (18.0, 'KG'), '25 KG': (25.0, 'KG'),\n",
    "                        '3 KG': (3.0, 'KG'), '3.5 KG': (3.5, 'KG'), '12 KG': (12.0, 'KG'),\n",
    "                        '500 G': (0.5, 'KG'), '125 G': (0.125, 'KG'), '90 KG': (90.0, 'KG'), \n",
    "                        'Pound': (0.45359237, 'KG'), '380 G': (0.380, 'KG'), '85 G': (0.085, 'KG'),\n",
    "                        '45 KG': (45.0, 'KG'), '100 KG': (100.0, 'KG'), '50 KG': (50.0, 'KG'), \n",
    "                        '91 KG': (91.0, 'KG'), '650 G': (0.650, 'KG'), '115 G': (0.115, 'KG'),\n",
    "                        '350 G': (0.350, 'KG'), '385 G': (0.385, 'KG'), '11.5 KG': (11.5, 'KG'),\n",
    "                        '400 G': (0.400, 'KG'), '150 G': (0.150, 'KG'), '160 G': (0.160, 'KG'), \n",
    "                        '200 G': (0.200, 'KG'), '185 G': (0.185, 'KG'), '750 G': (0.750, 'KG'),\n",
    "                        '168 G': (0.168, 'KG'), 'Libra': (0.329, 'KG'), 'MT': (1000.0, 'KG'),\n",
    "                        'Gallon': (3.78541178, 'L'), '500 ML': (0.500, 'L'), '750 ML': (0.750, 'L'),\n",
    "                        '1.5 L': (1.5, 'L'), '3 L': (3.0, 'L'), 'Cubic Meter': (1000.0, 'L'),\n",
    "                        '5 L': (5.0, 'L'), \n",
    "                        '10 pcs': (10.0, 'pcs'), '30 pcs': (30.0, 'pcs'), 'Dozen': (12.0, \"pcs\")}\n",
    "                        \n",
    "                        \n",
    "\n",
    "CONV_PRICE = 0\n",
    "CONV_UNIT = 1\n",
    "\n",
    "def get_values_column(df, column_name, value):\n",
    "    \"\"\"\n",
    "    df = dataset\n",
    "    column_name = kolom waarin je wil zoeken\n",
    "    value = waarde die je uit de kolom wil.\n",
    "\n",
    "    return nieuwe dataset met alle rijen die alleen de value in de gegeven kolommen bevatten.\n",
    "    \"\"\"\n",
    "    return df.loc[df[column_name] == value]\n",
    "\n",
    "def norm_price_unit(row, Col):\n",
    "    \"\"\"\n",
    "\n",
    "    \"\"\"\n",
    "    if Col:\n",
    "        try:\n",
    "            return UNIT_PRICE_CONVERTER[row.get(UNIT)][Col]\n",
    "        except:\n",
    "            return row.get(UNIT)\n",
    "    else:\n",
    "        try:\n",
    "            return row.get(PRICE) / UNIT_PRICE_CONVERTER[row.get(UNIT)][Col]\n",
    "        except:\n",
    "            return row.get(PRICE)\n",
    "\n",
    "def normalize(df):\n",
    "    \n",
    "    df[PRICE] = df.apply(lambda row: norm_price_unit(row, CONV_PRICE), axis = 1)\n",
    "    df[UNIT] = df.apply(lambda row: norm_price_unit(row, CONV_UNIT), axis = 1)\n",
    "\n",
    "\n",
    "normalize(df)\n",
    "\n",
    "dict = {}\n",
    "for (product, unit), df_group in df.groupby([\"cm_name\", \"um_name\"]):\n",
    "    if not product in dict:\n",
    "        dict[product] = [unit]\n",
    "    else:\n",
    "        dict[product].append(unit)\n",
    "\n",
    "dict2 = {key: value for (key, value)\n",
    "         in dict.items() if len(value) > 1}\n",
    "\n",
    "print(len(dict2))\n",
    "print(df.eval(UNIT).unique())\n",
    "\n"
   ]
  },
  {
   "cell_type": "code",
   "execution_count": 78,
   "metadata": {},
   "outputs": [
    {
     "name": "stdout",
     "output_type": "stream",
     "text": [
      "{1, 2, 3}\n"
     ]
    },
    {
     "data": {
      "text/plain": [
       "[(('Banjul', 'Coffee (instant)'), array(['KG', 'Unit'], dtype=object)),\n",
       " (('Basse Santa su', 'Coffee (instant)'), array(['KG', 'Unit'], dtype=object)),\n",
       " (('Biu', 'Oil (palm)'), array(['KG', 'L'], dtype=object)),\n",
       " (('Brikama', 'Coffee (instant)'), array(['KG', 'Unit'], dtype=object)),\n",
       " (('Damaturu', 'Oil (palm)'), array(['KG', 'L'], dtype=object)),\n",
       " (('Gaalkacyo', 'Fuel (diesel)'), array(['KG', 'L'], dtype=object)),\n",
       " (('Garowe', 'Fuel (diesel)'), array(['KG', 'L'], dtype=object)),\n",
       " (('Medellin', 'Milk (pasteurized)'), array(['L', 'KG'], dtype=object)),\n",
       " (('Mubi', 'Oil (palm)'), array(['KG', 'L'], dtype=object)),\n",
       " (('National Average', 'Eggs'), array(['KG', 'Unit', 'pcs'], dtype=object)),\n",
       " (('National Average', 'Oil (olive)'), array(['KG', 'L'], dtype=object)),\n",
       " (('National Average', 'Oil (sunflower)'), array(['KG', 'L'], dtype=object)),\n",
       " (('Serrekunda', 'Coffee (instant)'), array(['KG', 'Unit'], dtype=object)),\n",
       " (('Soma', 'Coffee (instant)'), array(['KG', 'Unit'], dtype=object))]"
      ]
     },
     "execution_count": 78,
     "metadata": {},
     "output_type": "execute_result"
    }
   ],
   "source": [
    "# get products with multiple unit measures in one city\n",
    "A = df.groupby([CITY, PROD])\n",
    "print({len(tmp_df.eval(UNIT).unique()) for _, tmp_df in A})\n",
    "[(group,tmp_df.eval(UNIT).unique()) for group, tmp_df in A if len(tmp_df.eval(UNIT).unique()) > 1]\n",
    "\n",
    "\n",
    "\n",
    "# to do:\n",
    "# normalize measures:\n",
    "# - kg to Liters, pieces to KG etc if possible\n",
    "# - otherwise: count frequency of used measure:\n",
    "        # if freq is low: delete data\n",
    "        # if freg is high: add different name for product with that measure (eg: 'bananas (kg)' and 'bananas (bunch)')\n"
   ]
  },
  {
   "cell_type": "code",
   "execution_count": 95,
   "metadata": {},
   "outputs": [
    {
     "name": "stdout",
     "output_type": "stream",
     "text": [
      "Unit    5177\n",
      "pcs     3835\n",
      "KG       749\n",
      "Name: um_name, dtype: int64\n",
      "Unit    155\n",
      "KG      132\n",
      "Name: um_name, dtype: int64\n",
      "L     7174\n",
      "KG    2199\n",
      "Name: um_name, dtype: int64\n"
     ]
    }
   ],
   "source": [
    "\n",
    "\n",
    "is_eggs = df[PROD] == 'Eggs'\n",
    "print(df[is_eggs][UNIT].value_counts())\n",
    "\n",
    "is_coffee = df[PROD] == 'Coffee (instant)'\n",
    "print(df[is_coffee][UNIT].value_counts())\n",
    "\n",
    "\n",
    "is_oil = df[PROD] == 'Oil (palm)'\n",
    "print(df[is_oil][UNIT].value_counts())\n"
   ]
  },
  {
   "cell_type": "code",
   "execution_count": null,
   "metadata": {},
   "outputs": [],
   "source": [
    "# 1 L Palm Oil = 0.91298 KG\n",
    "oil_price_to_KG = lambda x: x * 1.09531\n",
    "\n",
    "is_palm_oil = df[PROD] == 'Oil (palm)'\n",
    "is_in_Liters = df[UNIT] == 'L'\n",
    "\n",
    "df[is_palm_oil & is_in_Liters][PRICE].apply(oil_price_to_KG)\n",
    "\n",
    "#df[is_palm_oil & is_in_Liters][PRICE] = df[is_palm_oil & is_in_Liters][PRICE].apply(Oil_to_KG)\n",
    "#df[is_palm_oil & is_in_Liters][UNIT] = \"KG\"\n",
    "#df[PROD] = 'Oil (palm)'"
   ]
  },
  {
   "cell_type": "code",
   "execution_count": null,
   "metadata": {},
   "outputs": [],
   "source": []
  }
 ],
 "metadata": {
  "kernelspec": {
   "display_name": "Python 3",
   "language": "python",
   "name": "python3"
  },
  "language_info": {
   "codemirror_mode": {
    "name": "ipython",
    "version": 3
   },
   "file_extension": ".py",
   "mimetype": "text/x-python",
   "name": "python",
   "nbconvert_exporter": "python",
   "pygments_lexer": "ipython3",
   "version": "3.6.4"
  }
 },
 "nbformat": 4,
 "nbformat_minor": 2
}
