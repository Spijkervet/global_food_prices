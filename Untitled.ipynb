{
 "cells": [
  {
   "cell_type": "code",
   "execution_count": 136,
   "metadata": {},
   "outputs": [],
   "source": [
    "import pandas as pd\n",
    "\n",
    "regional_file_name = \"datasets/Regions/regions.csv\"\n"
   ]
  },
  {
   "cell_type": "code",
   "execution_count": 137,
   "metadata": {},
   "outputs": [],
   "source": [
    "df = pd.read_csv('datasets/data/WFPVAM_FoodPrices_version5_Retail.csv')\n",
    "refugees = pd.read_csv('server/python_flask/model/refugees.csv')\n",
    "refugees['date'] = pd.to_datetime(refugees.date, format='%Y-%m-%d')\n",
    "refugees.drop(columns=['Unnamed: 0'], inplace=True)\n",
    "\n",
    "region_df = pd.read_csv(regional_file_name)\n",
    "region_df.rename(columns={'name': 'adm0_name'}, inplace=True)\n",
    "new_regions = region_df.loc[:, ['adm0_name', 'sub-region']]\n",
    "\n",
    "df_regions = pd.merge(df, new_regions, on='adm0_name', how='left')\n",
    "df = df_regions.copy()\n",
    "df['date'] = pd.to_datetime(df.date, format='%Y-%m')\n"
   ]
  },
  {
   "cell_type": "code",
   "execution_count": 57,
   "metadata": {},
   "outputs": [],
   "source": [
    "refugees_sum = refugees.groupby(['origin', 'date']).sum().reset_index()\n",
    "df = pd.merge(df, refugees_sum, left_on=['adm0_name', 'date'], right_on=['origin', 'date'])"
   ]
  },
  {
   "cell_type": "code",
   "execution_count": 58,
   "metadata": {},
   "outputs": [],
   "source": [
    "y_axis = 'frequency'\n",
    "\n",
    "\n",
    "product_groups = df.groupby(['sub-region', 'adm0_name', 'cm_name', 'date'])[y_axis].mean().reset_index()\n",
    "\n",
    "\n",
    "row1 = product_groups.loc[product_groups['sub-region'] == 'Sub-Saharan Africa']\n",
    "\n",
    "\n",
    "# date_range = row1[(row1['date'] >= '2016-01-01')]# & (row1['date'] <= '2017-01-01')]\n",
    "\n",
    "prod = row1.pivot_table('frequency', ['sub-region', 'date'], 'cm_name')\n",
    "result = prod.corr(method='pearson')\n",
    "\n",
    "\n"
   ]
  },
  {
   "cell_type": "code",
   "execution_count": 63,
   "metadata": {},
   "outputs": [],
   "source": [
    "df = df.loc[df['adm0_name'].isin(['Afghanistan'])]"
   ]
  },
  {
   "cell_type": "code",
   "execution_count": 64,
   "metadata": {},
   "outputs": [],
   "source": [
    "df = df.loc[df['cm_name'] == 'Fuel (petrol-gasoline)']"
   ]
  },
  {
   "cell_type": "code",
   "execution_count": 65,
   "metadata": {},
   "outputs": [
    {
     "name": "stdout",
     "output_type": "stream",
     "text": [
      "Empty DataFrame\n",
      "Columns: [adm0_name, mkt_name, cm_name, mp_price, date, um_name, Gradient, sub-region, origin, frequency]\n",
      "Index: []\n"
     ]
    }
   ],
   "source": [
    "print(df)"
   ]
  },
  {
   "cell_type": "code",
   "execution_count": null,
   "metadata": {},
   "outputs": [],
   "source": []
  },
  {
   "cell_type": "code",
   "execution_count": null,
   "metadata": {},
   "outputs": [],
   "source": []
  },
  {
   "cell_type": "code",
   "execution_count": null,
   "metadata": {},
   "outputs": [],
   "source": []
  },
  {
   "cell_type": "code",
   "execution_count": null,
   "metadata": {},
   "outputs": [],
   "source": []
  },
  {
   "cell_type": "code",
   "execution_count": 138,
   "metadata": {},
   "outputs": [
    {
     "name": "stdout",
     "output_type": "stream",
     "text": [
      "Index(['Country', 'Year', ' Both sexes', ' Male', ' Female', 'date'], dtype='object')\n"
     ]
    }
   ],
   "source": [
    "import pandas as pd\n",
    "\n",
    "who = \"datasets/global_mortality_who.csv\"\n",
    "\n",
    "mortality = pd.read_csv(who, skiprows=1)\n",
    "mortality['date'] = pd.to_datetime(mortality['Year'], format='%Y')\n",
    "\n",
    "print(mortality.columns)\n",
    "\n",
    "df = pd.merge(df, mortality, left_on=['adm0_name', 'date'], right_on=['Country', 'date'])\n",
    "df.drop(columns=['Country', 'Year'], inplace=True)\n",
    "df = df.rename(columns={' Both sexes': 'mortality_sum', ' Male': 'mortality_male', ' Female': 'mortality_female'})"
   ]
  },
  {
   "cell_type": "code",
   "execution_count": null,
   "metadata": {},
   "outputs": [],
   "source": []
  },
  {
   "cell_type": "code",
   "execution_count": 139,
   "metadata": {},
   "outputs": [],
   "source": []
  },
  {
   "cell_type": "code",
   "execution_count": 135,
   "metadata": {},
   "outputs": [
    {
     "name": "stdout",
     "output_type": "stream",
     "text": [
      "Index(['adm0_name', 'mkt_name', 'cm_name', 'mp_price', 'date', 'um_name',\n",
      "       'Gradient', 'sub-region', 'mortality_sum', 'm', 'f', 'mortality_sum',\n",
      "       'mortality_male', 'mortality_female'],\n",
      "      dtype='object')\n"
     ]
    }
   ],
   "source": [
    "print(df.columns)"
   ]
  },
  {
   "cell_type": "code",
   "execution_count": null,
   "metadata": {},
   "outputs": [],
   "source": []
  }
 ],
 "metadata": {
  "kernelspec": {
   "display_name": "Python 3",
   "language": "python",
   "name": "python3"
  },
  "language_info": {
   "codemirror_mode": {
    "name": "ipython",
    "version": 3
   },
   "file_extension": ".py",
   "mimetype": "text/x-python",
   "name": "python",
   "nbconvert_exporter": "python",
   "pygments_lexer": "ipython3",
   "version": "3.6.5"
  }
 },
 "nbformat": 4,
 "nbformat_minor": 2
}
