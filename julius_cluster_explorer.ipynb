{
 "cells": [
  {
   "cell_type": "code",
   "execution_count": 2,
   "metadata": {},
   "outputs": [
    {
     "name": "stdout",
     "output_type": "stream",
     "text": [
      "['Afghanistan' 'Armenia' 'Bangladesh' 'Benin' 'Bolivia' 'Burkina Faso'\n",
      " 'Burundi' 'Cambodia' 'Cape Verde' 'Central African Republic' 'Chad'\n",
      " 'Congo' \"Cote d'Ivoire\" 'Democratic Republic of the Congo' 'Djibouti'\n",
      " 'Ethiopia' 'Gambia' 'Georgia' 'Guinea' 'Guinea-Bissau' 'Haiti' 'India'\n",
      " 'Iran  (Islamic Republic of)' 'Iraq' 'Kenya' 'Kyrgyzstan'\n",
      " \"Lao People's Democratic Republic\" 'Lebanon' 'Lesotho' 'Liberia'\n",
      " 'Madagascar' 'Malawi' 'Mali' 'Mauritania' 'Mozambique' 'Myanmar' 'Nepal'\n",
      " 'Niger' 'Nigeria' 'Pakistan' 'Peru' 'Philippines' 'Rwanda' 'Senegal'\n",
      " 'Somalia' 'Sri Lanka' 'State of Palestine' 'Sudan' 'Syrian Arab Republic'\n",
      " 'Tajikistan' 'Timor-Leste' 'Uganda' 'Ukraine' 'Yemen' 'Zambia' 'Zimbabwe']\n",
      "['Rice (long grain)' 'Rice (red nadu)' 'Wheat flour' 'Fuel (diesel)'\n",
      " 'Fuel (petrol-gasoline)' 'Sugar']\n"
     ]
    }
   ],
   "source": [
    "import pandas as pd\n",
    "import os\n",
    "import numpy as np\n",
    "from bokeh.layouts import gridplot\n",
    "\n",
    "url_2 = \"https://raw.githubusercontent.com/lukes/ISO-3166-Countries-with-Regional-Codes/master/all/all.csv\"\n",
    "regional_file_name = \"regions.csv\"\n",
    "\n",
    "file_name = 'WFPVAM_FoodPrices_version4_Retail.csv'\n",
    "\n",
    "# Add region and datetime cols.\n",
    "df = pd.read_csv(file_name)\n",
    "df['date'] = pd.to_datetime(df.date, format='%Y-%m')\n",
    "\n",
    "\n",
    "country = df['adm0_name'] == \"Sri Lanka\"\n",
    "print(df['adm0_name'].unique())\n",
    "print(df[country]['cm_name'].unique())\n",
    "\n",
    "\n"
   ]
  },
  {
   "cell_type": "code",
   "execution_count": null,
   "metadata": {},
   "outputs": [],
   "source": []
  }
 ],
 "metadata": {
  "kernelspec": {
   "display_name": "Python 3",
   "language": "python",
   "name": "python3"
  },
  "language_info": {
   "codemirror_mode": {
    "name": "ipython",
    "version": 3
   },
   "file_extension": ".py",
   "mimetype": "text/x-python",
   "name": "python",
   "nbconvert_exporter": "python",
   "pygments_lexer": "ipython3",
   "version": "3.6.4"
  }
 },
 "nbformat": 4,
 "nbformat_minor": 2
}
